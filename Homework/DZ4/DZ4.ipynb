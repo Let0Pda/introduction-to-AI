{
 "cells": [
  {
   "cell_type": "markdown",
   "metadata": {},
   "source": [
    "Problem\n",
    "\n",
    "Two individuals are engaging in a game of Russian roulette with a six-chambered revolver. The cylinder contains two \"bullets\" placed consecutively in adjacent chambers.\n",
    "\n",
    "After one person spun the cylinder and pulled the trigger without incident (the chamber was empty), the second person faces a decision:\n",
    "\n",
    "A. Pull the trigger.\n",
    "\n",
    "B. Spin the cylinder.\n",
    "Solutions\n",
    "Probability\n",
    "\n",
    "A. Pull the trigger\n",
    "\n",
    "    mm: number of deadly events (bullets)\n",
    "    nn: number of all possible events\n",
    "\n",
    "B. Spin the cylinder\n",
    "Answer\n",
    "\n",
    "The probability of survival is higher in case B: spinning the cylinder.\n",
    "Multitest Statistic\n",
    "Data\n",
    "\n",
    "cylinder - a list representing the revolver chambers: [1, 1, 0, 0, 0, 0]\n",
    "\n",
    "    0: empty chamber\n",
    "    1: loaded chamber (bullet)\n",
    "    Index 0 corresponds to the chamber with the barrel conjunction.\n",
    "\n",
    "Tests\n",
    "\n",
    "    Constant variable: Set the number of tests to simulate.\n",
    "    Constant variable: Set the maximum number of cylinder spins for random calculations in the spin_cylinder() function.\n",
    "\n",
    "Variables\n",
    "\n",
    "    frags: contains all shots during the test.\n",
    "    empties: contains all non-shot triggers during the test.\n",
    "    ratio_a: contains the ratio of frags to empties and shows the test statistic of deaths for option A: pulling the trigger.\n",
    "    ratio_b: contains the ratio of frags to empties and shows the test statistic of deaths for option B: spinning the cylinder.\n",
    "\n",
    "Functions\n",
    "\n",
    "    spin_cylinder(lst): Simulates cylinder spinning, randomly shifting without mixing bullets in the list.\n",
    "    lucky_pull(lst): Simulates the first person's lucky non-shot attempt, removing any zeros from the cylinder list.\n",
    "    pull_trigger(lst): Checks the 0 index of the cylinder list. If the value is 1 (shot), return 1; otherwise, return 0."
   ]
  },
  {
   "cell_type": "code",
   "execution_count": 1,
   "metadata": {},
   "outputs": [
    {
     "name": "stdout",
     "output_type": "stream",
     "text": [
      "ratio_a=0.572137 ratio_b=0.448371\n"
     ]
    }
   ],
   "source": [
    "import random\n",
    "\n",
    "TESTS = 1000000\n",
    "SPINS = 6\n",
    "\n",
    "def spin_cylinder(lst):\n",
    "    shift_amount = random.randint(0, SPINS)\n",
    "    return lst[shift_amount:] + lst[:shift_amount]\n",
    "\n",
    "def lucky_pull(lst):\n",
    "    if 0 in lst:\n",
    "        lst.remove(0)\n",
    "    return lst\n",
    "\n",
    "def pull_trigger(lst):\n",
    "    return lst[0]\n",
    "\n",
    "# Set of tests for case A: pull the trigger\n",
    "empties = frags = ratio_a = 0\n",
    "for _ in range(TESTS):\n",
    "    cylinder = [1, 1, 0, 0, 0, 0]\n",
    "    cylinder = spin_cylinder(cylinder)\n",
    "    cylinder = lucky_pull(cylinder)\n",
    "    if pull_trigger(cylinder):\n",
    "        frags += 1\n",
    "    else:\n",
    "        empties += 1\n",
    "\n",
    "ratio_a = frags / (empties + frags)\n",
    "\n",
    "# Set of tests for case B: spin the cylinder\n",
    "empties = frags = ratio_b = 0\n",
    "for _ in range(TESTS):\n",
    "    cylinder = [1, 1, 0, 0, 0, 0]\n",
    "    cylinder = spin_cylinder(cylinder)\n",
    "    cylinder = lucky_pull(cylinder)\n",
    "    cylinder = spin_cylinder(cylinder)\n",
    "    if pull_trigger(cylinder):\n",
    "        frags += 1\n",
    "    else:\n",
    "        empties += 1\n",
    "\n",
    "ratio_b = frags / (empties + frags)\n",
    "\n",
    "print(f\"{ratio_a=} {ratio_b=}\")\n"
   ]
  },
  {
   "cell_type": "markdown",
   "metadata": {},
   "source": [
    "Conclusions\n",
    "\n",
    "The statistics from one million tests demonstrate different results compared to the probability-based solution. However, in either case (probability or testing), it is recommended to choose option B: spinning the cylinder. This decision offers higher chances of survival and lower risks of a fatal outcome."
   ]
  }
 ],
 "metadata": {
  "kernelspec": {
   "display_name": "Python 3",
   "language": "python",
   "name": "python3"
  },
  "language_info": {
   "codemirror_mode": {
    "name": "ipython",
    "version": 3
   },
   "file_extension": ".py",
   "mimetype": "text/x-python",
   "name": "python",
   "nbconvert_exporter": "python",
   "pygments_lexer": "ipython3",
   "version": "3.11.6"
  }
 },
 "nbformat": 4,
 "nbformat_minor": 2
}
